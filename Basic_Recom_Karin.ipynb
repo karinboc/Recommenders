{
  "nbformat": 4,
  "nbformat_minor": 0,
  "metadata": {
    "kernelspec": {
      "display_name": "Python 3",
      "language": "python",
      "name": "python3"
    },
    "language_info": {
      "codemirror_mode": {
        "name": "ipython",
        "version": 3
      },
      "file_extension": ".py",
      "mimetype": "text/x-python",
      "name": "python",
      "nbconvert_exporter": "python",
      "pygments_lexer": "ipython3",
      "version": "3.8.5"
    },
    "colab": {
      "name": "Basic_Recom_Karin.ipynb",
      "provenance": [],
      "collapsed_sections": [],
      "include_colab_link": true
    }
  },
  "cells": [
    {
      "cell_type": "markdown",
      "metadata": {
        "id": "view-in-github",
        "colab_type": "text"
      },
      "source": [
        "<a href=\"https://colab.research.google.com/github/karinboc/Recommenders/blob/main/Basic_Recom_Karin.ipynb\" target=\"_parent\"><img src=\"https://colab.research.google.com/assets/colab-badge.svg\" alt=\"Open In Colab\"/></a>"
      ]
    },
    {
      "cell_type": "markdown",
      "metadata": {
        "id": "buK4ZYaludH6"
      },
      "source": [
        "##### As part of my recommender system project I implemented a few different approaches: \n",
        "* **Heuristics**:\n",
        "** Recommend to each user the product that he bought most often (Acc=31.24%)\n",
        "** Recommend to each user the product that he bought most, taking into account the quantity\n",
        "* **Matrix factorization**\n",
        "* **Microsoft's SotA algorithms (sliRec, Caser)**\n",
        "\n"
      ]
    },
    {
      "cell_type": "code",
      "metadata": {
        "colab": {
          "base_uri": "https://localhost:8080/"
        },
        "id": "-qeDC1UAVCwb",
        "outputId": "8eac55b2-75d6-47f0-bb95-a20ce4e58ed1"
      },
      "source": [
        "!git clone https://github.com/urigoren/recom-day-2020-challenge.git"
      ],
      "execution_count": null,
      "outputs": [
        {
          "output_type": "stream",
          "text": [
            "Cloning into 'recom-day-2020-challenge'...\n",
            "remote: Enumerating objects: 12, done.\u001b[K\n",
            "remote: Counting objects: 100% (12/12), done.\u001b[K\n",
            "remote: Compressing objects: 100% (10/10), done.\u001b[K\n",
            "remote: Total 12 (delta 3), reused 5 (delta 2), pack-reused 0\u001b[K\n",
            "Unpacking objects: 100% (12/12), done.\n"
          ],
          "name": "stdout"
        }
      ]
    },
    {
      "cell_type": "code",
      "metadata": {
        "id": "qJoykdEUT4xl",
        "colab": {
          "base_uri": "https://localhost:8080/"
        },
        "outputId": "018080fa-d23f-41be-fe49-d332c685034b"
      },
      "source": [
        "import numpy as np\n",
        "from collections import Counter\n",
        "from sklearn.model_selection import train_test_split\n",
        "from scipy import sparse\n",
        "#import jovian\n",
        "import pandas as pd\n",
        "import urllib.request\n",
        "from functools import partial\n",
        "#import sys\n",
        "#sys.path.insert(0, './recom-day-2020-challenge')\n",
        "%cd recom-day-2020-challenge\n",
        "import argmaxml"
      ],
      "execution_count": null,
      "outputs": [
        {
          "output_type": "stream",
          "text": [
            "/content/recom-day-2020-challenge/recom-day-2020-challenge\n"
          ],
          "name": "stdout"
        }
      ]
    },
    {
      "cell_type": "markdown",
      "metadata": {
        "id": "FAcPsl0mT4xn"
      },
      "source": [
        "Add your full name, email, and phone number.\n",
        "We will contact you with a free ticket in case you win"
      ]
    },
    {
      "cell_type": "code",
      "metadata": {
        "id": "gm_By8FRT4xo"
      },
      "source": [
        "# Fill in your full name, email and phone number\n",
        "my_submit = partial(argmaxml.submit, \"Karin\", \"karinboc@gmail.com\", \"052\")\n"
      ],
      "execution_count": null,
      "outputs": []
    },
    {
      "cell_type": "markdown",
      "metadata": {
        "id": "cyA-Lx_VT4xo"
      },
      "source": [
        "## Reading the data"
      ]
    },
    {
      "cell_type": "code",
      "metadata": {
        "id": "fSTluuX5T4xp"
      },
      "source": [
        "df = pd.read_csv(\"jul_train.csv\")\n",
        "test_users = df.user_id.unique()"
      ],
      "execution_count": null,
      "outputs": []
    },
    {
      "cell_type": "markdown",
      "metadata": {
        "id": "zpJhX7UaT4xp"
      },
      "source": [
        "## Creating a submission\n"
      ]
    },
    {
      "cell_type": "markdown",
      "metadata": {
        "id": "b85jx_y4Tp_C"
      },
      "source": [
        "## Evaluation 1 \n",
        "\n",
        "##### Recommend to each user the product that he bought most often, regardless of the quantity that he bought in each time.  "
      ]
    },
    {
      "cell_type": "markdown",
      "metadata": {
        "id": "cBIDfwd2ubRw"
      },
      "source": [
        ""
      ]
    },
    {
      "cell_type": "code",
      "metadata": {
        "id": "mmudkjOCOCQ1",
        "colab": {
          "base_uri": "https://localhost:8080/"
        },
        "outputId": "dbef15b8-c4aa-4c48-ee1f-988ec07da4e0"
      },
      "source": [
        "test_submission = df.groupby(\"user_id\")[\"product_id\"]\\\n",
        "                    .apply(lambda x: x.value_counts().idxmax())\n",
        "test_submission"
      ],
      "execution_count": null,
      "outputs": [
        {
          "output_type": "execute_result",
          "data": {
            "text/plain": [
              "user_id\n",
              "1       1621\n",
              "2       2879\n",
              "3       1978\n",
              "4       3917\n",
              "5       2196\n",
              "        ... \n",
              "4407    3277\n",
              "4408     564\n",
              "4409    3917\n",
              "4412     985\n",
              "4414    1188\n",
              "Name: product_id, Length: 2609, dtype: int64"
            ]
          },
          "metadata": {
            "tags": []
          },
          "execution_count": 13
        }
      ]
    },
    {
      "cell_type": "code",
      "metadata": {
        "colab": {
          "base_uri": "https://localhost:8080/"
        },
        "id": "YpVMbgt5A3C1",
        "outputId": "0ff7df9c-ef97-44b3-c30b-631a9a242118"
      },
      "source": [
        "submission_name = \"already_bought_best\"\n",
        "my_accuracy = my_submit(submission_name, test_submission)\n",
        "print (\"Submission Accuracy for {s} : {a:0.2f}%\".format(a=100*my_accuracy, s=submission_name))"
      ],
      "execution_count": null,
      "outputs": [
        {
          "output_type": "stream",
          "text": [
            "Submission Accuracy for already_bought_best : 31.24%\n"
          ],
          "name": "stdout"
        }
      ]
    },
    {
      "cell_type": "markdown",
      "metadata": {
        "id": "i5FO8gAl0HR2"
      },
      "source": [
        "##### Select the top-k frequent products, and then, sample at random one of them.  "
      ]
    },
    {
      "cell_type": "code",
      "metadata": {
        "colab": {
          "base_uri": "https://localhost:8080/"
        },
        "id": "NsSLILTSA4-d",
        "outputId": "ef0f087a-c2f8-426f-c8aa-cc92b580b400"
      },
      "source": [
        "test_submission = df.groupby(\"user_id\")[\"product_id\"]\\\n",
        "                    .apply(lambda x: x.value_counts().nlargest(2).sample(1).idxmax())\n",
        "test_submission"
      ],
      "execution_count": null,
      "outputs": [
        {
          "output_type": "execute_result",
          "data": {
            "text/plain": [
              "user_id\n",
              "1       1621\n",
              "2       2879\n",
              "3       1978\n",
              "4       2686\n",
              "5       2196\n",
              "        ... \n",
              "4407    3277\n",
              "4408     564\n",
              "4409     167\n",
              "4412     985\n",
              "4414    4112\n",
              "Name: product_id, Length: 2609, dtype: int64"
            ]
          },
          "metadata": {
            "tags": []
          },
          "execution_count": 21
        }
      ]
    },
    {
      "cell_type": "code",
      "metadata": {
        "colab": {
          "base_uri": "https://localhost:8080/"
        },
        "id": "CE76XGxrOwdJ",
        "outputId": "c3dadddb-1609-4bd7-d8e9-9864df1bea92"
      },
      "source": [
        "submission_name = \"already_bought_best\"\n",
        "my_accuracy = my_submit(submission_name, test_submission)\n",
        "print (\"Submission Accuracy for {s} : {a:0.2f}%\".format(a=100*my_accuracy, s=submission_name))"
      ],
      "execution_count": null,
      "outputs": [
        {
          "output_type": "stream",
          "text": [
            "Submission Accuracy for already_bought_best : 26.41%\n"
          ],
          "name": "stdout"
        }
      ]
    },
    {
      "cell_type": "markdown",
      "metadata": {
        "id": "2QOsStmmUsUs"
      },
      "source": [
        "## Evaluation 2 \n",
        "\n",
        "##### Recommend to each user the product that he bought most, taking into account the quantity.  "
      ]
    },
    {
      "cell_type": "code",
      "metadata": {
        "colab": {
          "base_uri": "https://localhost:8080/"
        },
        "id": "ucahyvYmba4D",
        "outputId": "8542f302-b3e9-4ff4-8e42-09eede007e4a"
      },
      "source": [
        "test_submission = df.groupby(\"user_id\")[\"product_id\", \"quantity\"]\\\n",
        "                    .apply(lambda x: list(x.groupby(\"product_id\").sum().idxmax())[0])\n",
        "test_submission"
      ],
      "execution_count": null,
      "outputs": [
        {
          "output_type": "stream",
          "text": [
            "/usr/local/lib/python3.7/dist-packages/ipykernel_launcher.py:1: FutureWarning: Indexing with multiple keys (implicitly converted to a tuple of keys) will be deprecated, use a list instead.\n",
            "  \"\"\"Entry point for launching an IPython kernel.\n"
          ],
          "name": "stderr"
        },
        {
          "output_type": "execute_result",
          "data": {
            "text/plain": [
              "user_id\n",
              "1       3917\n",
              "2       2879\n",
              "3       3917\n",
              "4       3917\n",
              "5        167\n",
              "        ... \n",
              "4407    3277\n",
              "4408     167\n",
              "4409     167\n",
              "4412      31\n",
              "4414    3165\n",
              "Length: 2609, dtype: int64"
            ]
          },
          "metadata": {
            "tags": []
          },
          "execution_count": 23
        }
      ]
    },
    {
      "cell_type": "code",
      "metadata": {
        "colab": {
          "base_uri": "https://localhost:8080/"
        },
        "id": "HGmVFqZwhGuo",
        "outputId": "b09c098e-5bd2-474b-90e5-149ef32ea5ef"
      },
      "source": [
        "submission_name = \"already_bought_best\"\n",
        "my_accuracy = my_submit(submission_name, test_submission)\n",
        "print (\"Submission Accuracy for {s} : {a:0.2f}%\".format(a=100*my_accuracy, s=submission_name))"
      ],
      "execution_count": null,
      "outputs": [
        {
          "output_type": "stream",
          "text": [
            "Submission Accuracy for already_bought_best : 29.32%\n"
          ],
          "name": "stdout"
        }
      ]
    },
    {
      "cell_type": "code",
      "metadata": {
        "id": "proX-U14U-zd"
      },
      "source": [
        ""
      ],
      "execution_count": null,
      "outputs": []
    },
    {
      "cell_type": "markdown",
      "metadata": {
        "id": "ZLf-txagVBox"
      },
      "source": [
        "\n",
        "\n",
        "\n",
        "\n",
        "\n",
        "## Evaluation 3 - Matrix Factorization"
      ]
    },
    {
      "cell_type": "code",
      "metadata": {
        "colab": {
          "base_uri": "https://localhost:8080/",
          "height": 223
        },
        "id": "bcC9o8obU_L9",
        "outputId": "26502e97-ba3f-4689-bffa-d0baf5856bd4"
      },
      "source": [
        "df.head()"
      ],
      "execution_count": null,
      "outputs": [
        {
          "output_type": "execute_result",
          "data": {
            "text/html": [
              "<div>\n",
              "<style scoped>\n",
              "    .dataframe tbody tr th:only-of-type {\n",
              "        vertical-align: middle;\n",
              "    }\n",
              "\n",
              "    .dataframe tbody tr th {\n",
              "        vertical-align: top;\n",
              "    }\n",
              "\n",
              "    .dataframe thead th {\n",
              "        text-align: right;\n",
              "    }\n",
              "</style>\n",
              "<table border=\"1\" class=\"dataframe\">\n",
              "  <thead>\n",
              "    <tr style=\"text-align: right;\">\n",
              "      <th></th>\n",
              "      <th>user_id</th>\n",
              "      <th>segment_id</th>\n",
              "      <th>order_id</th>\n",
              "      <th>quantity</th>\n",
              "      <th>product_id</th>\n",
              "      <th>category_id</th>\n",
              "      <th>category_name</th>\n",
              "      <th>order_year</th>\n",
              "      <th>order_month</th>\n",
              "      <th>order_day</th>\n",
              "    </tr>\n",
              "  </thead>\n",
              "  <tbody>\n",
              "    <tr>\n",
              "      <th>0</th>\n",
              "      <td>2832</td>\n",
              "      <td>4</td>\n",
              "      <td>26369</td>\n",
              "      <td>4</td>\n",
              "      <td>1906</td>\n",
              "      <td>1</td>\n",
              "      <td>תינוקות וילדים</td>\n",
              "      <td>2018</td>\n",
              "      <td>10</td>\n",
              "      <td>28</td>\n",
              "    </tr>\n",
              "    <tr>\n",
              "      <th>1</th>\n",
              "      <td>2832</td>\n",
              "      <td>4</td>\n",
              "      <td>26369</td>\n",
              "      <td>2</td>\n",
              "      <td>3029</td>\n",
              "      <td>1</td>\n",
              "      <td>תינוקות וילדים</td>\n",
              "      <td>2018</td>\n",
              "      <td>10</td>\n",
              "      <td>28</td>\n",
              "    </tr>\n",
              "    <tr>\n",
              "      <th>2</th>\n",
              "      <td>2230</td>\n",
              "      <td>4</td>\n",
              "      <td>21747</td>\n",
              "      <td>2</td>\n",
              "      <td>3298</td>\n",
              "      <td>1</td>\n",
              "      <td>תינוקות וילדים</td>\n",
              "      <td>2018</td>\n",
              "      <td>10</td>\n",
              "      <td>31</td>\n",
              "    </tr>\n",
              "    <tr>\n",
              "      <th>3</th>\n",
              "      <td>2230</td>\n",
              "      <td>4</td>\n",
              "      <td>21747</td>\n",
              "      <td>1</td>\n",
              "      <td>1815</td>\n",
              "      <td>1</td>\n",
              "      <td>תינוקות וילדים</td>\n",
              "      <td>2018</td>\n",
              "      <td>10</td>\n",
              "      <td>31</td>\n",
              "    </tr>\n",
              "    <tr>\n",
              "      <th>4</th>\n",
              "      <td>2908</td>\n",
              "      <td>4</td>\n",
              "      <td>33134</td>\n",
              "      <td>1</td>\n",
              "      <td>3666</td>\n",
              "      <td>1</td>\n",
              "      <td>תינוקות וילדים</td>\n",
              "      <td>2018</td>\n",
              "      <td>10</td>\n",
              "      <td>31</td>\n",
              "    </tr>\n",
              "  </tbody>\n",
              "</table>\n",
              "</div>"
            ],
            "text/plain": [
              "   user_id  segment_id  order_id  ...  order_year  order_month  order_day\n",
              "0     2832           4     26369  ...        2018           10         28\n",
              "1     2832           4     26369  ...        2018           10         28\n",
              "2     2230           4     21747  ...        2018           10         31\n",
              "3     2230           4     21747  ...        2018           10         31\n",
              "4     2908           4     33134  ...        2018           10         31\n",
              "\n",
              "[5 rows x 10 columns]"
            ]
          },
          "metadata": {
            "tags": []
          },
          "execution_count": 29
        }
      ]
    },
    {
      "cell_type": "markdown",
      "metadata": {
        "id": "_WbnxgtpfTK6"
      },
      "source": [
        "##Train-Valid Split"
      ]
    },
    {
      "cell_type": "code",
      "metadata": {
        "colab": {
          "base_uri": "https://localhost:8080/"
        },
        "id": "GsB82H7YsNHq",
        "outputId": "9dc131fa-14da-40b1-e3ab-d5e058fc555e"
      },
      "source": [
        "df_totals = df.groupby(\"user_id\")[\"product_id\", \"quantity\"]\\\n",
        "                    .apply(lambda x: x.groupby(\"product_id\").sum())"
      ],
      "execution_count": null,
      "outputs": [
        {
          "output_type": "stream",
          "text": [
            "/usr/local/lib/python3.7/dist-packages/ipykernel_launcher.py:1: FutureWarning: Indexing with multiple keys (implicitly converted to a tuple of keys) will be deprecated, use a list instead.\n",
            "  \"\"\"Entry point for launching an IPython kernel.\n"
          ],
          "name": "stderr"
        }
      ]
    },
    {
      "cell_type": "code",
      "metadata": {
        "id": "PlmjTpGzbRJp"
      },
      "source": [
        "train_df, valid_df = train_test_split(df_totals.copy(), test_size=0.02)\n",
        "\n",
        "#resetting indices to avoid indexing errors in the future\n",
        "train_df = train_df.reset_index()[['user_id', 'product_id', 'quantity']]\n",
        "valid_df = valid_df.reset_index()[['user_id', 'product_id', 'quantity']]"
      ],
      "execution_count": null,
      "outputs": []
    },
    {
      "cell_type": "code",
      "metadata": {
        "colab": {
          "base_uri": "https://localhost:8080/"
        },
        "id": "jC8W8gBtd3cH",
        "outputId": "da912b12-3548-4391-df27-9bc309a63d73"
      },
      "source": [
        "valid_df.shape\n",
        "train_df.shape"
      ],
      "execution_count": null,
      "outputs": [
        {
          "output_type": "execute_result",
          "data": {
            "text/plain": [
              "(81137, 3)"
            ]
          },
          "metadata": {
            "tags": []
          },
          "execution_count": 32
        }
      ]
    },
    {
      "cell_type": "markdown",
      "metadata": {
        "id": "CCrPnuSvfY6-"
      },
      "source": [
        "##Training"
      ]
    },
    {
      "cell_type": "markdown",
      "metadata": {
        "id": "YPbt7-qrfNgl"
      },
      "source": [
        "###Encoding columns with continuous ids\n",
        "Because we'll be using PyTorch's embedding layers to create our user and item embeddings, we need continuous IDs to be able to index into the embedding matrix and access each user/item embedding."
      ]
    },
    {
      "cell_type": "code",
      "metadata": {
        "id": "BJPtVE6QfNRD"
      },
      "source": [
        ""
      ],
      "execution_count": null,
      "outputs": []
    },
    {
      "cell_type": "code",
      "metadata": {
        "id": "x7p0I8TOVAS0"
      },
      "source": [
        "def encode_column(column):\n",
        "    \"\"\" Encodes a pandas column with continuous IDs\"\"\"\n",
        "    keys = column.unique()\n",
        "    key_to_id = {key:idx for idx,key in enumerate(keys)}\n",
        "    id_to_key = {idx:key for idx,key in enumerate(keys)}\n",
        "    return key_to_id, id_to_key, np.array([key_to_id[x] for x in column]), len(keys)\n",
        "\n",
        "def encode_df(df):\n",
        "    \"\"\"Encodes quantity data with continuous user and prod ids\"\"\"\n",
        "\n",
        "    prod_ids, id_prods, df['product_id'], num_prod = encode_column(df['product_id'])\n",
        "    user_ids, id_users, df['user_id'], num_users = encode_column(df['user_id'])\n",
        "    return df, num_users, num_prod, user_ids, prod_ids, id_prods, id_users\n",
        "\n"
      ],
      "execution_count": null,
      "outputs": []
    },
    {
      "cell_type": "code",
      "metadata": {
        "colab": {
          "base_uri": "https://localhost:8080/",
          "height": 237
        },
        "id": "haALjz-mVAqE",
        "outputId": "15ecfd64-41d9-42fb-869a-d777e76f20ba"
      },
      "source": [
        "dfp, num_users, num_prod, user_ids, prod_ids, id_prods, id_users = encode_df(train_df)\n",
        "print(\"Number of users :\", num_users)\n",
        "print(\"Number of prods :\", num_prod)\n",
        "dfp.head()"
      ],
      "execution_count": null,
      "outputs": [
        {
          "output_type": "stream",
          "text": [
            "Number of users : 2609\n",
            "Number of prods : 4227\n"
          ],
          "name": "stdout"
        },
        {
          "output_type": "execute_result",
          "data": {
            "text/html": [
              "<div>\n",
              "<style scoped>\n",
              "    .dataframe tbody tr th:only-of-type {\n",
              "        vertical-align: middle;\n",
              "    }\n",
              "\n",
              "    .dataframe tbody tr th {\n",
              "        vertical-align: top;\n",
              "    }\n",
              "\n",
              "    .dataframe thead th {\n",
              "        text-align: right;\n",
              "    }\n",
              "</style>\n",
              "<table border=\"1\" class=\"dataframe\">\n",
              "  <thead>\n",
              "    <tr style=\"text-align: right;\">\n",
              "      <th></th>\n",
              "      <th>user_id</th>\n",
              "      <th>product_id</th>\n",
              "      <th>quantity</th>\n",
              "    </tr>\n",
              "  </thead>\n",
              "  <tbody>\n",
              "    <tr>\n",
              "      <th>0</th>\n",
              "      <td>0</td>\n",
              "      <td>0</td>\n",
              "      <td>23</td>\n",
              "    </tr>\n",
              "    <tr>\n",
              "      <th>1</th>\n",
              "      <td>1</td>\n",
              "      <td>1</td>\n",
              "      <td>2</td>\n",
              "    </tr>\n",
              "    <tr>\n",
              "      <th>2</th>\n",
              "      <td>2</td>\n",
              "      <td>2</td>\n",
              "      <td>1</td>\n",
              "    </tr>\n",
              "    <tr>\n",
              "      <th>3</th>\n",
              "      <td>3</td>\n",
              "      <td>3</td>\n",
              "      <td>2</td>\n",
              "    </tr>\n",
              "    <tr>\n",
              "      <th>4</th>\n",
              "      <td>4</td>\n",
              "      <td>4</td>\n",
              "      <td>2</td>\n",
              "    </tr>\n",
              "  </tbody>\n",
              "</table>\n",
              "</div>"
            ],
            "text/plain": [
              "   user_id  product_id  quantity\n",
              "0        0           0        23\n",
              "1        1           1         2\n",
              "2        2           2         1\n",
              "3        3           3         2\n",
              "4        4           4         2"
            ]
          },
          "metadata": {
            "tags": []
          },
          "execution_count": 34
        }
      ]
    },
    {
      "cell_type": "markdown",
      "metadata": {
        "id": "ibH6MaKtfquB"
      },
      "source": [
        "####Initializing user and item embeddings"
      ]
    },
    {
      "cell_type": "code",
      "metadata": {
        "id": "0F3zvE2oep7c"
      },
      "source": [
        "def create_embeddings(n, d):\n",
        "    \"\"\"\n",
        "    Creates a random numpy matrix of shape n, d with uniform values in (0, 11/d)\n",
        "    n: number of items/users\n",
        "    d: number of features in the embedding \n",
        "    \"\"\"\n",
        "    return 11*np.random.random((n, d)) / d\n",
        "\n",
        "def create_sparse_matrix(df, rows, cols, column_name=\"quantity\"): # we treat quantity as rating of a product\n",
        "    \"\"\" Returns a sparse utility matrix\"\"\" \n",
        "    return sparse.csc_matrix((df[column_name].values,(df['user_id'].values, df['product_id'].values)),shape=(rows, cols))"
      ],
      "execution_count": null,
      "outputs": []
    },
    {
      "cell_type": "code",
      "metadata": {
        "id": "dicKCR8kfy3n"
      },
      "source": [
        "#Y is a sprase matrix whose values are the quantities, and its row (col) index is user (prod) id \n",
        "Y = create_sparse_matrix(dfp, num_users, num_prod)\n"
      ],
      "execution_count": null,
      "outputs": []
    },
    {
      "cell_type": "code",
      "metadata": {
        "colab": {
          "base_uri": "https://localhost:8080/"
        },
        "id": "hDU_KX9SfzMn",
        "outputId": "e49df023-a42f-4137-f6cc-1df3e0faf697"
      },
      "source": [
        "Y.todense()"
      ],
      "execution_count": null,
      "outputs": [
        {
          "output_type": "execute_result",
          "data": {
            "text/plain": [
              "matrix([[23,  0,  0, ...,  0,  0,  0],\n",
              "        [ 2,  2,  0, ...,  0,  0,  0],\n",
              "        [ 0,  0,  1, ...,  0,  0,  0],\n",
              "        ...,\n",
              "        [ 0,  0,  0, ...,  0,  0,  0],\n",
              "        [ 0,  0,  0, ...,  0,  0,  0],\n",
              "        [ 0,  0,  0, ...,  0,  0,  0]], dtype=int64)"
            ]
          },
          "metadata": {
            "tags": []
          },
          "execution_count": 37
        }
      ]
    },
    {
      "cell_type": "code",
      "metadata": {
        "id": "x8U-9E4wfze-"
      },
      "source": [
        ""
      ],
      "execution_count": null,
      "outputs": []
    },
    {
      "cell_type": "markdown",
      "metadata": {
        "id": "IuXAnm-hiQMs"
      },
      "source": [
        "#####Making Predictions"
      ]
    },
    {
      "cell_type": "code",
      "metadata": {
        "id": "V4l6HFaDf0Qs"
      },
      "source": [
        "def predict(df, emb_user, emb_prod):\n",
        "    \"\"\" This function computes df[\"prediction\"] without doing (U*V^T).\n",
        "    \n",
        "    Computes df[\"prediction\"] by using elementwise multiplication of the corresponding embeddings and then \n",
        "    sum to get the prediction u_i*v_j. This avoids creating the dense matrix U*V^T.\n",
        "    \"\"\"\n",
        "    df['prediction'] = np.sum(np.multiply(emb_prod[df['product_id']],emb_user[df['user_id']]), axis=1)\n",
        "    return df"
      ],
      "execution_count": null,
      "outputs": []
    },
    {
      "cell_type": "code",
      "metadata": {
        "id": "lMGH6lDfikMB"
      },
      "source": [
        ""
      ],
      "execution_count": null,
      "outputs": []
    },
    {
      "cell_type": "markdown",
      "metadata": {
        "id": "NLZ2kB63il-0"
      },
      "source": [
        "#####Loss"
      ]
    },
    {
      "cell_type": "code",
      "metadata": {
        "id": "FD_J7vR-iknQ"
      },
      "source": [
        "lmbda = 0.0002"
      ],
      "execution_count": null,
      "outputs": []
    },
    {
      "cell_type": "code",
      "metadata": {
        "id": "qbHQvGw-izC_"
      },
      "source": [
        "def cost(df, emb_user, emb_prod):\n",
        "    \"\"\" Computes mean square error\"\"\"\n",
        "    Y = create_sparse_matrix(df, emb_user.shape[0], emb_prod.shape[0])\n",
        "    predicted = create_sparse_matrix(predict(df, emb_user, emb_prod), emb_user.shape[0], emb_prod.shape[0], 'prediction')\n",
        "    return np.sum((Y-predicted).power(2))/df.shape[0] "
      ],
      "execution_count": null,
      "outputs": []
    },
    {
      "cell_type": "code",
      "metadata": {
        "id": "nL97rZgTizkm"
      },
      "source": [
        ""
      ],
      "execution_count": null,
      "outputs": []
    },
    {
      "cell_type": "markdown",
      "metadata": {
        "id": "FL5bRmxZjNDG"
      },
      "source": [
        "#####Gradient Descent"
      ]
    },
    {
      "cell_type": "code",
      "metadata": {
        "id": "5WotsAbtjUrs"
      },
      "source": [
        "def gradient(df, emb_user, emb_prod):\n",
        "    \"\"\" Computes the gradient for user and anime embeddings\"\"\"\n",
        "    Y = create_sparse_matrix(df, emb_user.shape[0], emb_prod.shape[0])\n",
        "    predicted = create_sparse_matrix(predict(df, emb_user, emb_prod), emb_user.shape[0], emb_prod.shape[0], 'prediction')\n",
        "    delta =(Y-predicted)\n",
        "    grad_user = (-2/df.shape[0])*(delta*emb_prod) + 2*lmbda*emb_user\n",
        "    grad_prod = (-2/df.shape[0])*(delta.T*emb_user) + 2*lmbda*emb_prod\n",
        "    return grad_user, grad_prod"
      ],
      "execution_count": null,
      "outputs": []
    },
    {
      "cell_type": "code",
      "metadata": {
        "id": "Nxyj1cK5jUOL"
      },
      "source": [
        "def gradient_descent(df, emb_user, emb_prod, iterations=3000, learning_rate=0.01):\n",
        "    \"\"\" \n",
        "    Computes gradient descent with momentum (0.9) for given number of iterations.\n",
        "    emb_user: the trained user embedding\n",
        "    emb_prod: the trained prod embedding\n",
        "    \"\"\"\n",
        "    Y = create_sparse_matrix(df, emb_user.shape[0], emb_prod.shape[0])\n",
        "    beta = 0.9\n",
        "    grad_user, grad_prod = gradient(df, emb_user, emb_prod)\n",
        "    v_user = grad_user\n",
        "    v_prod = grad_prod\n",
        "    for i in range(iterations):\n",
        "        grad_user, grad_prod = gradient(df, emb_user, emb_prod)\n",
        "        v_user = beta*v_user + (1-beta)*grad_user\n",
        "        v_prod = beta*v_prod + (1-beta)*grad_prod\n",
        "        emb_user = emb_user - learning_rate*v_user\n",
        "        emb_prod = emb_prod - learning_rate*v_prod\n",
        "        if(not (i+1)%50):\n",
        "            print(\"\\niteration\", i+1, \":\")\n",
        "            print(\"train mse:\",  cost(df, emb_user, emb_prod))           \n",
        "    return emb_user, emb_prod"
      ],
      "execution_count": null,
      "outputs": []
    },
    {
      "cell_type": "code",
      "metadata": {
        "colab": {
          "base_uri": "https://localhost:8080/"
        },
        "id": "wbsgNYXflTwZ",
        "outputId": "7b66ae98-6d93-46e4-86e2-0ddf4ba2819f"
      },
      "source": [
        "emb_user = create_embeddings(num_users, 127)\n",
        "emb_prod = create_embeddings(num_prod, 127)\n",
        "emb_user, emb_prod = gradient_descent(dfp, emb_user, emb_prod, iterations=20000, learning_rate=0.05)"
      ],
      "execution_count": null,
      "outputs": [
        {
          "output_type": "stream",
          "text": [
            "\n",
            "iteration 50 :\n",
            "train mse: 90.8775990778375\n",
            "\n",
            "iteration 100 :\n",
            "train mse: 90.28570645710681\n",
            "\n",
            "iteration 150 :\n",
            "train mse: 89.6128608640258\n",
            "\n",
            "iteration 200 :\n",
            "train mse: 88.83514477676887\n",
            "\n",
            "iteration 250 :\n",
            "train mse: 87.92731733147404\n",
            "\n",
            "iteration 300 :\n",
            "train mse: 86.8629591590736\n",
            "\n",
            "iteration 350 :\n",
            "train mse: 85.6150905695193\n",
            "\n",
            "iteration 400 :\n",
            "train mse: 84.15739626854247\n",
            "\n",
            "iteration 450 :\n",
            "train mse: 82.4661895146431\n",
            "\n",
            "iteration 500 :\n",
            "train mse: 80.52319617095421\n",
            "\n",
            "iteration 550 :\n",
            "train mse: 78.31910999005892\n",
            "\n",
            "iteration 600 :\n",
            "train mse: 75.85764370199192\n",
            "\n",
            "iteration 650 :\n",
            "train mse: 73.15948270607429\n",
            "\n",
            "iteration 700 :\n",
            "train mse: 70.2652027684358\n",
            "\n",
            "iteration 750 :\n",
            "train mse: 67.23598130477289\n",
            "\n",
            "iteration 800 :\n",
            "train mse: 64.15101470445151\n",
            "\n",
            "iteration 850 :\n",
            "train mse: 61.101124412196604\n",
            "\n",
            "iteration 900 :\n",
            "train mse: 58.17908603049376\n",
            "\n",
            "iteration 950 :\n",
            "train mse: 55.46844043405121\n",
            "\n",
            "iteration 1000 :\n",
            "train mse: 53.03338290803372\n",
            "\n",
            "iteration 1050 :\n",
            "train mse: 50.91225305749329\n",
            "\n",
            "iteration 1100 :\n",
            "train mse: 49.11606197309936\n",
            "\n",
            "iteration 1150 :\n",
            "train mse: 47.63186297876892\n",
            "\n",
            "iteration 1200 :\n",
            "train mse: 46.429373031906934\n",
            "\n",
            "iteration 1250 :\n",
            "train mse: 45.468665986153646\n",
            "\n",
            "iteration 1300 :\n",
            "train mse: 44.70705506377813\n",
            "\n",
            "iteration 1350 :\n",
            "train mse: 44.10409126560257\n",
            "\n",
            "iteration 1400 :\n",
            "train mse: 43.62444865319328\n",
            "\n",
            "iteration 1450 :\n",
            "train mse: 43.23903740194571\n",
            "\n",
            "iteration 1500 :\n",
            "train mse: 42.92491443500328\n",
            "\n",
            "iteration 1550 :\n",
            "train mse: 42.66454027812297\n",
            "\n",
            "iteration 1600 :\n",
            "train mse: 42.44479095911117\n",
            "\n",
            "iteration 1650 :\n",
            "train mse: 42.25597512491848\n",
            "\n",
            "iteration 1700 :\n",
            "train mse: 42.09097933538783\n",
            "\n",
            "iteration 1750 :\n",
            "train mse: 41.94458144462719\n",
            "\n",
            "iteration 1800 :\n",
            "train mse: 41.81292668896178\n",
            "\n",
            "iteration 1850 :\n",
            "train mse: 41.6931415167762\n",
            "\n",
            "iteration 1900 :\n",
            "train mse: 41.583055419685046\n",
            "\n",
            "iteration 1950 :\n",
            "train mse: 41.48100341528055\n",
            "\n",
            "iteration 2000 :\n",
            "train mse: 41.385686842932955\n",
            "\n",
            "iteration 2050 :\n",
            "train mse: 41.29607543196824\n",
            "\n",
            "iteration 2100 :\n",
            "train mse: 41.211338195136044\n",
            "\n",
            "iteration 2150 :\n",
            "train mse: 41.13079431249131\n",
            "\n",
            "iteration 2200 :\n",
            "train mse: 41.053877851816424\n",
            "\n",
            "iteration 2250 :\n",
            "train mse: 40.9801120890674\n",
            "\n",
            "iteration 2300 :\n",
            "train mse: 40.90909053021659\n",
            "\n",
            "iteration 2350 :\n",
            "train mse: 40.84046265441736\n",
            "\n",
            "iteration 2400 :\n",
            "train mse: 40.773923022767384\n",
            "\n",
            "iteration 2450 :\n",
            "train mse: 40.709202819112555\n",
            "\n",
            "iteration 2500 :\n",
            "train mse: 40.64606317443594\n",
            "\n",
            "iteration 2550 :\n",
            "train mse: 40.58428981934011\n",
            "\n",
            "iteration 2600 :\n",
            "train mse: 40.52368874042494\n",
            "\n",
            "iteration 2650 :\n",
            "train mse: 40.46408260641559\n",
            "\n",
            "iteration 2700 :\n",
            "train mse: 40.40530779231165\n",
            "\n",
            "iteration 2750 :\n",
            "train mse: 40.34721187363392\n",
            "\n",
            "iteration 2800 :\n",
            "train mse: 40.289651494031276\n",
            "\n",
            "iteration 2850 :\n",
            "train mse: 40.232490532056666\n",
            "\n",
            "iteration 2900 :\n",
            "train mse: 40.17559850948846\n",
            "\n",
            "iteration 2950 :\n",
            "train mse: 40.11884919595137\n",
            "\n",
            "iteration 3000 :\n",
            "train mse: 40.062119373994896\n",
            "\n",
            "iteration 3050 :\n",
            "train mse: 40.00528773605234\n",
            "\n",
            "iteration 3100 :\n",
            "train mse: 39.9482338904107\n",
            "\n",
            "iteration 3150 :\n",
            "train mse: 39.89083745788352\n",
            "\n",
            "iteration 3200 :\n",
            "train mse: 39.83297724458979\n",
            "\n",
            "iteration 3250 :\n",
            "train mse: 39.77453047932026\n",
            "\n",
            "iteration 3300 :\n",
            "train mse: 39.71537210657782\n",
            "\n",
            "iteration 3350 :\n",
            "train mse: 39.65537412863599\n",
            "\n",
            "iteration 3400 :\n",
            "train mse: 39.59440499196226\n",
            "\n",
            "iteration 3450 :\n",
            "train mse: 39.532329015177176\n",
            "\n",
            "iteration 3500 :\n",
            "train mse: 39.46900585742521\n",
            "\n",
            "iteration 3550 :\n",
            "train mse: 39.404290027667095\n",
            "\n",
            "iteration 3600 :\n",
            "train mse: 39.33803043700545\n",
            "\n",
            "iteration 3650 :\n",
            "train mse: 39.270069997755\n",
            "\n",
            "iteration 3700 :\n",
            "train mse: 39.20024527459118\n",
            "\n",
            "iteration 3750 :\n",
            "train mse: 39.128386194770336\n",
            "\n",
            "iteration 3800 :\n",
            "train mse: 39.054315826121474\n",
            "\n",
            "iteration 3850 :\n",
            "train mse: 38.97785023326302\n",
            "\n",
            "iteration 3900 :\n",
            "train mse: 38.898798424289744\n",
            "\n",
            "iteration 3950 :\n",
            "train mse: 38.816962401984114\n",
            "\n",
            "iteration 4000 :\n",
            "train mse: 38.73213733540007\n",
            "\n",
            "iteration 4050 :\n",
            "train mse: 38.644111869397456\n",
            "\n",
            "iteration 4100 :\n",
            "train mse: 38.55266859130547\n",
            "\n",
            "iteration 4150 :\n",
            "train mse: 38.45758467527831\n",
            "\n",
            "iteration 4200 :\n",
            "train mse: 38.35863272596801\n",
            "\n",
            "iteration 4250 :\n",
            "train mse: 38.255581843745475\n",
            "\n",
            "iteration 4300 :\n",
            "train mse: 38.14819893369547\n",
            "\n",
            "iteration 4350 :\n",
            "train mse: 38.03625027981226\n",
            "\n",
            "iteration 4400 :\n",
            "train mse: 37.91950340402683\n",
            "\n",
            "iteration 4450 :\n",
            "train mse: 37.79772922668245\n",
            "\n",
            "iteration 4500 :\n",
            "train mse: 37.67070454061123\n",
            "\n",
            "iteration 4550 :\n",
            "train mse: 37.53821480482246\n",
            "\n",
            "iteration 4600 :\n",
            "train mse: 37.40005725578302\n",
            "\n",
            "iteration 4650 :\n",
            "train mse: 37.25604432418416\n",
            "\n",
            "iteration 4700 :\n",
            "train mse: 37.10600733284637\n",
            "\n",
            "iteration 4750 :\n",
            "train mse: 36.949800437017686\n",
            "\n",
            "iteration 4800 :\n",
            "train mse: 36.78730475191062\n",
            "\n",
            "iteration 4850 :\n",
            "train mse: 36.61843259421305\n",
            "\n",
            "iteration 4900 :\n",
            "train mse: 36.44313174503017\n",
            "\n",
            "iteration 4950 :\n",
            "train mse: 36.26138962203731\n",
            "\n",
            "iteration 5000 :\n",
            "train mse: 36.07323722958088\n",
            "\n",
            "iteration 5050 :\n",
            "train mse: 35.87875273834927\n",
            "\n",
            "iteration 5100 :\n",
            "train mse: 35.67806453256774\n",
            "\n",
            "iteration 5150 :\n",
            "train mse: 35.47135355414452\n",
            "\n",
            "iteration 5200 :\n",
            "train mse: 35.258854771565126\n",
            "\n",
            "iteration 5250 :\n",
            "train mse: 35.04085760828404\n",
            "\n",
            "iteration 5300 :\n",
            "train mse: 34.81770518232736\n",
            "\n",
            "iteration 5350 :\n",
            "train mse: 34.58979223677457\n",
            "\n",
            "iteration 5400 :\n",
            "train mse: 34.357561680041634\n",
            "\n",
            "iteration 5450 :\n",
            "train mse: 34.1214997048919\n",
            "\n",
            "iteration 5500 :\n",
            "train mse: 33.88212951430368\n",
            "\n",
            "iteration 5550 :\n",
            "train mse: 33.64000374810519\n",
            "\n",
            "iteration 5600 :\n",
            "train mse: 33.395695773015895\n",
            "\n",
            "iteration 5650 :\n",
            "train mse: 33.14979006593603\n",
            "\n",
            "iteration 5700 :\n",
            "train mse: 32.902871981013675\n",
            "\n",
            "iteration 5750 :\n",
            "train mse: 32.6555172401119\n",
            "\n",
            "iteration 5800 :\n",
            "train mse: 32.4082815191438\n",
            "\n",
            "iteration 5850 :\n",
            "train mse: 32.16169051564566\n",
            "\n",
            "iteration 5900 :\n",
            "train mse: 31.91623087366126\n",
            "\n",
            "iteration 5950 :\n",
            "train mse: 31.672342310048776\n",
            "\n",
            "iteration 6000 :\n",
            "train mse: 31.430411233192007\n",
            "\n",
            "iteration 6050 :\n",
            "train mse: 31.190766074190297\n",
            "\n",
            "iteration 6100 :\n",
            "train mse: 30.953674466914933\n",
            "\n",
            "iteration 6150 :\n",
            "train mse: 30.719342322959964\n",
            "\n",
            "iteration 6200 :\n",
            "train mse: 30.487914757070257\n",
            "\n",
            "iteration 6250 :\n",
            "train mse: 30.259478734492305\n",
            "\n",
            "iteration 6300 :\n",
            "train mse: 30.034067239420928\n",
            "\n",
            "iteration 6350 :\n",
            "train mse: 29.811664707534383\n",
            "\n",
            "iteration 6400 :\n",
            "train mse: 29.592213428088638\n",
            "\n",
            "iteration 6450 :\n",
            "train mse: 29.37562060299444\n",
            "\n",
            "iteration 6500 :\n",
            "train mse: 29.16176575089142\n",
            "\n",
            "iteration 6550 :\n",
            "train mse: 28.950508161255414\n",
            "\n",
            "iteration 6600 :\n",
            "train mse: 28.74169413383768\n",
            "\n",
            "iteration 6650 :\n",
            "train mse: 28.535163778505467\n",
            "\n",
            "iteration 6700 :\n",
            "train mse: 28.330757195981747\n",
            "\n",
            "iteration 6750 :\n",
            "train mse: 28.12831990746\n",
            "\n",
            "iteration 6800 :\n",
            "train mse: 27.927707447503003\n",
            "\n",
            "iteration 6850 :\n",
            "train mse: 27.72878907759973\n",
            "\n",
            "iteration 6900 :\n",
            "train mse: 27.531450615563397\n",
            "\n",
            "iteration 6950 :\n",
            "train mse: 27.33559640762158\n",
            "\n",
            "iteration 7000 :\n",
            "train mse: 27.141150495213097\n",
            "\n",
            "iteration 7050 :\n",
            "train mse: 26.94805704729189\n",
            "\n",
            "iteration 7100 :\n",
            "train mse: 26.75628014182809\n",
            "\n",
            "iteration 7150 :\n",
            "train mse: 26.56580298789065\n",
            "\n",
            "iteration 7200 :\n",
            "train mse: 26.376626682999742\n",
            "\n",
            "iteration 7250 :\n",
            "train mse: 26.18876860016847\n",
            "\n",
            "iteration 7300 :\n",
            "train mse: 26.00226049597849\n",
            "\n",
            "iteration 7350 :\n",
            "train mse: 25.81714642583323\n",
            "\n",
            "iteration 7400 :\n",
            "train mse: 25.633480545779634\n",
            "\n",
            "iteration 7450 :\n",
            "train mse: 25.451324872457054\n",
            "\n",
            "iteration 7500 :\n",
            "train mse: 25.270747064199764\n",
            "\n",
            "iteration 7550 :\n",
            "train mse: 25.091818277392118\n",
            "\n",
            "iteration 7600 :\n",
            "train mse: 24.914611143101908\n",
            "\n",
            "iteration 7650 :\n",
            "train mse: 24.73919790000655\n",
            "\n",
            "iteration 7700 :\n",
            "train mse: 24.565648710860792\n",
            "\n",
            "iteration 7750 :\n",
            "train mse: 24.394030181398215\n",
            "\n",
            "iteration 7800 :\n",
            "train mse: 24.224404092761016\n",
            "\n",
            "iteration 7850 :\n",
            "train mse: 24.05682635144768\n",
            "\n",
            "iteration 7900 :\n",
            "train mse: 23.8913461544723\n",
            "\n",
            "iteration 7950 :\n",
            "train mse: 23.72800536203415\n",
            "\n",
            "iteration 8000 :\n",
            "train mse: 23.566838065565552\n",
            "\n",
            "iteration 8050 :\n",
            "train mse: 23.407870335590577\n",
            "\n",
            "iteration 8100 :\n",
            "train mse: 23.251120131381715\n",
            "\n",
            "iteration 8150 :\n",
            "train mse: 23.096597352905707\n",
            "\n",
            "iteration 8200 :\n",
            "train mse: 22.944304014930086\n",
            "\n",
            "iteration 8250 :\n",
            "train mse: 22.79423452331649\n",
            "\n",
            "iteration 8300 :\n",
            "train mse: 22.646376034331436\n",
            "\n",
            "iteration 8350 :\n",
            "train mse: 22.50070887912372\n",
            "\n",
            "iteration 8400 :\n",
            "train mse: 22.357207037205498\n",
            "\n",
            "iteration 8450 :\n",
            "train mse: 22.21583864469274\n",
            "\n",
            "iteration 8500 :\n",
            "train mse: 22.076566525079276\n",
            "\n",
            "iteration 8550 :\n",
            "train mse: 21.93934873232342\n",
            "\n",
            "iteration 8600 :\n",
            "train mse: 21.804139097923205\n",
            "\n",
            "iteration 8650 :\n",
            "train mse: 21.670887775375007\n",
            "\n",
            "iteration 8700 :\n",
            "train mse: 21.53954177690264\n",
            "\n",
            "iteration 8750 :\n",
            "train mse: 21.410045498584708\n",
            "\n",
            "iteration 8800 :\n",
            "train mse: 21.282341230992074\n",
            "\n",
            "iteration 8850 :\n",
            "train mse: 21.156369653185873\n",
            "\n",
            "iteration 8900 :\n",
            "train mse: 21.032070308444503\n",
            "\n",
            "iteration 8950 :\n",
            "train mse: 20.909382060418878\n",
            "\n",
            "iteration 9000 :\n",
            "train mse: 20.788243528597672\n",
            "\n",
            "iteration 9050 :\n",
            "train mse: 20.668593502038135\n",
            "\n",
            "iteration 9100 :\n",
            "train mse: 20.550371330322687\n",
            "\n",
            "iteration 9150 :\n",
            "train mse: 20.43351729067114\n",
            "\n",
            "iteration 9200 :\n",
            "train mse: 20.31797293010324\n",
            "\n",
            "iteration 9250 :\n",
            "train mse: 20.203681381528984\n",
            "\n",
            "iteration 9300 :\n",
            "train mse: 20.090587652662276\n",
            "\n",
            "iteration 9350 :\n",
            "train mse: 19.97863888671607\n",
            "\n",
            "iteration 9400 :\n",
            "train mse: 19.867784593949803\n",
            "\n",
            "iteration 9450 :\n",
            "train mse: 19.757976853300896\n",
            "\n",
            "iteration 9500 :\n",
            "train mse: 19.649170483537905\n",
            "\n",
            "iteration 9550 :\n",
            "train mse: 19.541323183615017\n",
            "\n",
            "iteration 9600 :\n",
            "train mse: 19.434395642177705\n",
            "\n",
            "iteration 9650 :\n",
            "train mse: 19.328351616456334\n",
            "\n",
            "iteration 9700 :\n",
            "train mse: 19.223157981078767\n",
            "\n",
            "iteration 9750 :\n",
            "train mse: 19.118784747624346\n",
            "\n",
            "iteration 9800 :\n",
            "train mse: 19.01520505602106\n",
            "\n",
            "iteration 9850 :\n",
            "train mse: 18.91239513914854\n",
            "\n",
            "iteration 9900 :\n",
            "train mse: 18.810334262244677\n",
            "\n",
            "iteration 9950 :\n",
            "train mse: 18.70900463891974\n",
            "\n",
            "iteration 10000 :\n",
            "train mse: 18.608391325754905\n",
            "\n",
            "iteration 10050 :\n",
            "train mse: 18.508482097601487\n",
            "\n",
            "iteration 10100 :\n",
            "train mse: 18.409267305801336\n",
            "\n",
            "iteration 10150 :\n",
            "train mse: 18.310739721619182\n",
            "\n",
            "iteration 10200 :\n",
            "train mse: 18.212894367215174\n",
            "\n",
            "iteration 10250 :\n",
            "train mse: 18.11572833649205\n",
            "\n",
            "iteration 10300 :\n",
            "train mse: 18.019240608129234\n",
            "\n",
            "iteration 10350 :\n",
            "train mse: 17.923431853067513\n",
            "\n",
            "iteration 10400 :\n",
            "train mse: 17.828304238636154\n",
            "\n",
            "iteration 10450 :\n",
            "train mse: 17.73386123142148\n",
            "\n",
            "iteration 10500 :\n",
            "train mse: 17.64010740086539\n",
            "\n",
            "iteration 10550 :\n",
            "train mse: 17.547048225456173\n",
            "\n",
            "iteration 10600 :\n",
            "train mse: 17.454689903235096\n",
            "\n",
            "iteration 10650 :\n",
            "train mse: 17.363039168193083\n",
            "\n",
            "iteration 10700 :\n",
            "train mse: 17.272103113974453\n",
            "\n",
            "iteration 10750 :\n",
            "train mse: 17.18188902614154\n",
            "\n",
            "iteration 10800 :\n",
            "train mse: 17.092404224087385\n",
            "\n",
            "iteration 10850 :\n",
            "train mse: 17.00365591351492\n",
            "\n",
            "iteration 10900 :\n",
            "train mse: 16.91565105023312\n",
            "\n",
            "iteration 10950 :\n",
            "train mse: 16.828396215854227\n",
            "\n",
            "iteration 11000 :\n",
            "train mse: 16.74189750581387\n",
            "\n",
            "iteration 11050 :\n",
            "train mse: 16.65616042997906\n",
            "\n",
            "iteration 11100 :\n",
            "train mse: 16.57118982595896\n",
            "\n",
            "iteration 11150 :\n",
            "train mse: 16.48698978509175\n",
            "\n",
            "iteration 11200 :\n",
            "train mse: 16.403563590948938\n",
            "\n",
            "iteration 11250 :\n",
            "train mse: 16.320913670076738\n",
            "\n",
            "iteration 11300 :\n",
            "train mse: 16.23904155458441\n",
            "\n",
            "iteration 11350 :\n",
            "train mse: 16.157947856091475\n",
            "\n",
            "iteration 11400 :\n",
            "train mse: 16.077632250460653\n",
            "\n",
            "iteration 11450 :\n",
            "train mse: 15.99809347267125\n",
            "\n",
            "iteration 11500 :\n",
            "train mse: 15.919329321128407\n",
            "\n",
            "iteration 11550 :\n",
            "train mse: 15.841336670657713\n",
            "\n",
            "iteration 11600 :\n",
            "train mse: 15.76411149340073\n",
            "\n",
            "iteration 11650 :\n",
            "train mse: 15.68764888680583\n",
            "\n",
            "iteration 11700 :\n",
            "train mse: 15.611943107898558\n",
            "\n",
            "iteration 11750 :\n",
            "train mse: 15.536987613016567\n",
            "\n",
            "iteration 11800 :\n",
            "train mse: 15.462775102204635\n",
            "\n",
            "iteration 11850 :\n",
            "train mse: 15.38929756748467\n",
            "\n",
            "iteration 11900 :\n",
            "train mse: 15.316546344242756\n",
            "\n",
            "iteration 11950 :\n",
            "train mse: 15.24451216500897\n",
            "\n",
            "iteration 12000 :\n",
            "train mse: 15.173185214945294\n",
            "\n",
            "iteration 12050 :\n",
            "train mse: 15.10255518840064\n",
            "\n",
            "iteration 12100 :\n",
            "train mse: 15.0326113459394\n",
            "\n",
            "iteration 12150 :\n",
            "train mse: 14.963342571299659\n",
            "\n",
            "iteration 12200 :\n",
            "train mse: 14.894737427788334\n",
            "\n",
            "iteration 12250 :\n",
            "train mse: 14.826784213672337\n",
            "\n",
            "iteration 12300 :\n",
            "train mse: 14.759471016176409\n",
            "\n",
            "iteration 12350 :\n",
            "train mse: 14.692785763748969\n",
            "\n",
            "iteration 12400 :\n",
            "train mse: 14.626716276306414\n",
            "\n",
            "iteration 12450 :\n",
            "train mse: 14.561250313213812\n",
            "\n",
            "iteration 12500 :\n",
            "train mse: 14.49637561880415\n",
            "\n",
            "iteration 12550 :\n",
            "train mse: 14.432079965281048\n",
            "\n",
            "iteration 12600 :\n",
            "train mse: 14.368351192888237\n",
            "\n",
            "iteration 12650 :\n",
            "train mse: 14.305177247265636\n",
            "\n",
            "iteration 12700 :\n",
            "train mse: 14.242546213944166\n",
            "\n",
            "iteration 12750 :\n",
            "train mse: 14.180446349961244\n",
            "\n",
            "iteration 12800 :\n",
            "train mse: 14.118866112604993\n",
            "\n",
            "iteration 12850 :\n",
            "train mse: 14.057794185318514\n",
            "\n",
            "iteration 12900 :\n",
            "train mse: 13.997219500815634\n",
            "\n",
            "iteration 12950 :\n",
            "train mse: 13.937131261476862\n",
            "\n",
            "iteration 13000 :\n",
            "train mse: 13.877518957108913\n",
            "\n",
            "iteration 13050 :\n",
            "train mse: 13.818372380163138\n",
            "\n",
            "iteration 13100 :\n",
            "train mse: 13.759681638518071\n",
            "\n",
            "iteration 13150 :\n",
            "train mse: 13.70143716593889\n",
            "\n",
            "iteration 13200 :\n",
            "train mse: 13.643629730332307\n",
            "\n",
            "iteration 13250 :\n",
            "train mse: 13.58625043991945\n",
            "\n",
            "iteration 13300 :\n",
            "train mse: 13.529290747451814\n",
            "\n",
            "iteration 13350 :\n",
            "train mse: 13.47274245259648\n",
            "\n",
            "iteration 13400 :\n",
            "train mse: 13.416597702616782\n",
            "\n",
            "iteration 13450 :\n",
            "train mse: 13.360848991473743\n",
            "\n",
            "iteration 13500 :\n",
            "train mse: 13.305489157471538\n",
            "\n",
            "iteration 13550 :\n",
            "train mse: 13.250511379567934\n",
            "\n",
            "iteration 13600 :\n",
            "train mse: 13.195909172467333\n",
            "\n",
            "iteration 13650 :\n",
            "train mse: 13.141676380610544\n",
            "\n",
            "iteration 13700 :\n",
            "train mse: 13.087807171171391\n",
            "\n",
            "iteration 13750 :\n",
            "train mse: 13.034296026166057\n",
            "\n",
            "iteration 13800 :\n",
            "train mse: 12.981137733776523\n",
            "\n",
            "iteration 13850 :\n",
            "train mse: 12.928327378984921\n",
            "\n",
            "iteration 13900 :\n",
            "train mse: 12.875860333610893\n",
            "\n",
            "iteration 13950 :\n",
            "train mse: 12.823732245839361\n",
            "\n",
            "iteration 14000 :\n",
            "train mse: 12.771939029321338\n",
            "\n",
            "iteration 14050 :\n",
            "train mse: 12.720476851925774\n",
            "\n",
            "iteration 14100 :\n",
            "train mse: 12.669342124215822\n",
            "\n",
            "iteration 14150 :\n",
            "train mse: 12.618531487718304\n",
            "\n",
            "iteration 14200 :\n",
            "train mse: 12.568041803050834\n",
            "\n",
            "iteration 14250 :\n",
            "train mse: 12.517870137966659\n",
            "\n",
            "iteration 14300 :\n",
            "train mse: 12.46801375537313\n",
            "\n",
            "iteration 14350 :\n",
            "train mse: 12.41847010137566\n",
            "\n",
            "iteration 14400 :\n",
            "train mse: 12.369236793395094\n",
            "\n",
            "iteration 14450 :\n",
            "train mse: 12.32031160840267\n",
            "\n",
            "iteration 14500 :\n",
            "train mse: 12.271692471313067\n",
            "\n",
            "iteration 14550 :\n",
            "train mse: 12.223377443572542\n",
            "\n",
            "iteration 14600 :\n",
            "train mse: 12.175364711975872\n",
            "\n",
            "iteration 14650 :\n",
            "train mse: 12.127652577742468\n",
            "\n",
            "iteration 14700 :\n",
            "train mse: 12.080239445879016\n",
            "\n",
            "iteration 14750 :\n",
            "train mse: 12.033123814853058\n",
            "\n",
            "iteration 14800 :\n",
            "train mse: 11.986304266598989\n",
            "\n",
            "iteration 14850 :\n",
            "train mse: 11.939779456875366\n",
            "\n",
            "iteration 14900 :\n",
            "train mse: 11.893548105989751\n",
            "\n",
            "iteration 14950 :\n",
            "train mse: 11.84760898990487\n",
            "\n",
            "iteration 15000 :\n",
            "train mse: 11.801960931737502\n",
            "\n",
            "iteration 15050 :\n",
            "train mse: 11.756602793659361\n",
            "\n",
            "iteration 15100 :\n",
            "train mse: 11.711533469206957\n",
            "\n",
            "iteration 15150 :\n",
            "train mse: 11.66675187600556\n",
            "\n",
            "iteration 15200 :\n",
            "train mse: 11.622256948910422\n",
            "\n",
            "iteration 15250 :\n",
            "train mse: 11.578047633566573\n",
            "\n",
            "iteration 15300 :\n",
            "train mse: 11.534122880386878\n",
            "\n",
            "iteration 15350 :\n",
            "train mse: 11.490481638946456\n",
            "\n",
            "iteration 15400 :\n",
            "train mse: 11.447122852789974\n",
            "\n",
            "iteration 15450 :\n",
            "train mse: 11.404045454647093\n",
            "\n",
            "iteration 15500 :\n",
            "train mse: 11.36124836204987\n",
            "\n",
            "iteration 15550 :\n",
            "train mse: 11.318730473344916\n",
            "\n",
            "iteration 15600 :\n",
            "train mse: 11.276490664091826\n",
            "\n",
            "iteration 15650 :\n",
            "train mse: 11.23452778383855\n",
            "\n",
            "iteration 15700 :\n",
            "train mse: 11.192840653263348\n",
            "\n",
            "iteration 15750 :\n",
            "train mse: 11.151428061672199\n",
            "\n",
            "iteration 15800 :\n",
            "train mse: 11.110288764839824\n",
            "\n",
            "iteration 15850 :\n",
            "train mse: 11.069421483181737\n",
            "\n",
            "iteration 15900 :\n",
            "train mse: 11.028824900244294\n",
            "\n",
            "iteration 15950 :\n",
            "train mse: 10.98849766149919\n",
            "\n",
            "iteration 16000 :\n",
            "train mse: 10.948438373428361\n",
            "\n",
            "iteration 16050 :\n",
            "train mse: 10.908645602885095\n",
            "\n",
            "iteration 16100 :\n",
            "train mse: 10.869117876716748\n",
            "\n",
            "iteration 16150 :\n",
            "train mse: 10.829853681634367\n",
            "\n",
            "iteration 16200 :\n",
            "train mse: 10.790851464314434\n",
            "\n",
            "iteration 16250 :\n",
            "train mse: 10.752109631717802\n",
            "\n",
            "iteration 16300 :\n",
            "train mse: 10.713626551611021\n",
            "\n",
            "iteration 16350 :\n",
            "train mse: 10.675400553275264\n",
            "\n",
            "iteration 16400 :\n",
            "train mse: 10.637429928388242\n",
            "\n",
            "iteration 16450 :\n",
            "train mse: 10.599712932064618\n",
            "\n",
            "iteration 16500 :\n",
            "train mse: 10.562247784040773\n",
            "\n",
            "iteration 16550 :\n",
            "train mse: 10.525032669989908\n",
            "\n",
            "iteration 16600 :\n",
            "train mse: 10.488065742953951\n",
            "\n",
            "iteration 16650 :\n",
            "train mse: 10.451345124878975\n",
            "\n",
            "iteration 16700 :\n",
            "train mse: 10.414868908241253\n",
            "\n",
            "iteration 16750 :\n",
            "train mse: 10.378635157751583\n",
            "\n",
            "iteration 16800 :\n",
            "train mse: 10.342641912125824\n",
            "\n",
            "iteration 16850 :\n",
            "train mse: 10.306887185910185\n",
            "\n",
            "iteration 16900 :\n",
            "train mse: 10.27136897135024\n",
            "\n",
            "iteration 16950 :\n",
            "train mse: 10.236085240293182\n",
            "\n",
            "iteration 17000 :\n",
            "train mse: 10.201033946113316\n",
            "\n",
            "iteration 17050 :\n",
            "train mse: 10.166213025651375\n",
            "\n",
            "iteration 17100 :\n",
            "train mse: 10.131620401158777\n",
            "\n",
            "iteration 17150 :\n",
            "train mse: 10.09725398223845\n",
            "\n",
            "iteration 17200 :\n",
            "train mse: 10.063111667774471\n",
            "\n",
            "iteration 17250 :\n",
            "train mse: 10.029191347843225\n",
            "\n",
            "iteration 17300 :\n",
            "train mse: 9.995490905599464\n",
            "\n",
            "iteration 17350 :\n",
            "train mse: 9.962008219131034\n",
            "\n",
            "iteration 17400 :\n",
            "train mse: 9.928741163276715\n",
            "\n",
            "iteration 17450 :\n",
            "train mse: 9.895687611402085\n",
            "\n",
            "iteration 17500 :\n",
            "train mse: 9.862845437128758\n",
            "\n",
            "iteration 17550 :\n",
            "train mse: 9.830212516013033\n",
            "\n",
            "iteration 17600 :\n",
            "train mse: 9.797786727170273\n",
            "\n",
            "iteration 17650 :\n",
            "train mse: 9.765565954841978\n",
            "\n",
            "iteration 17700 :\n",
            "train mse: 9.733548089902829\n",
            "\n",
            "iteration 17750 :\n",
            "train mse: 9.70173103130552\n",
            "\n",
            "iteration 17800 :\n",
            "train mse: 9.670112687461588\n",
            "\n",
            "iteration 17850 :\n",
            "train mse: 9.638690977556793\n",
            "\n",
            "iteration 17900 :\n",
            "train mse: 9.607463832800084\n",
            "\n",
            "iteration 17950 :\n",
            "train mse: 9.576429197605437\n",
            "\n",
            "iteration 18000 :\n",
            "train mse: 9.545585030706272\n",
            "\n",
            "iteration 18050 :\n",
            "train mse: 9.514929306202422\n",
            "\n",
            "iteration 18100 :\n",
            "train mse: 9.484460014539959\n",
            "\n",
            "iteration 18150 :\n",
            "train mse: 9.4541751634244\n",
            "\n",
            "iteration 18200 :\n",
            "train mse: 9.42407277866817\n",
            "\n",
            "iteration 18250 :\n",
            "train mse: 9.394150904973287\n",
            "\n",
            "iteration 18300 :\n",
            "train mse: 9.36440760665058\n",
            "\n",
            "iteration 18350 :\n",
            "train mse: 9.334840968276888\n",
            "\n",
            "iteration 18400 :\n",
            "train mse: 9.305449095291795\n",
            "\n",
            "iteration 18450 :\n",
            "train mse: 9.276230114535743\n",
            "\n",
            "iteration 18500 :\n",
            "train mse: 9.247182174731355\n",
            "\n",
            "iteration 18550 :\n",
            "train mse: 9.218303446910028\n",
            "\n",
            "iteration 18600 :\n",
            "train mse: 9.189592124785863\n",
            "\n",
            "iteration 18650 :\n",
            "train mse: 9.16104642507912\n",
            "\n",
            "iteration 18700 :\n",
            "train mse: 9.132664587791483\n",
            "\n",
            "iteration 18750 :\n",
            "train mse: 9.10444487643535\n",
            "\n",
            "iteration 18800 :\n",
            "train mse: 9.076385578219535\n",
            "\n",
            "iteration 18850 :\n",
            "train mse: 9.048485004193688\n",
            "\n",
            "iteration 18900 :\n",
            "train mse: 9.020741489353785\n",
            "\n",
            "iteration 18950 :\n",
            "train mse: 8.993153392711015\n",
            "\n",
            "iteration 19000 :\n",
            "train mse: 8.965719097326375\n",
            "\n",
            "iteration 19050 :\n",
            "train mse: 8.93843701031328\n",
            "\n",
            "iteration 19100 :\n",
            "train mse: 8.911305562810396\n",
            "\n",
            "iteration 19150 :\n",
            "train mse: 8.88432320992694\n",
            "\n",
            "iteration 19200 :\n",
            "train mse: 8.857488430662526\n",
            "\n",
            "iteration 19250 :\n",
            "train mse: 8.830799727803683\n",
            "\n",
            "iteration 19300 :\n",
            "train mse: 8.804255627799048\n",
            "\n",
            "iteration 19350 :\n",
            "train mse: 8.777854680615116\n",
            "\n",
            "iteration 19400 :\n",
            "train mse: 8.751595459574473\n",
            "\n",
            "iteration 19450 :\n",
            "train mse: 8.725476561178219\n",
            "\n",
            "iteration 19500 :\n",
            "train mse: 8.699496604914293\n",
            "\n",
            "iteration 19550 :\n",
            "train mse: 8.67365423305328\n",
            "\n",
            "iteration 19600 :\n",
            "train mse: 8.647948110433212\n",
            "\n",
            "iteration 19650 :\n",
            "train mse: 8.622376924234775\n",
            "\n",
            "iteration 19700 :\n",
            "train mse: 8.596939383748214\n",
            "\n",
            "iteration 19750 :\n",
            "train mse: 8.571634220133182\n",
            "\n",
            "iteration 19800 :\n",
            "train mse: 8.546460186172684\n",
            "\n",
            "iteration 19850 :\n",
            "train mse: 8.521416056022117\n",
            "\n",
            "iteration 19900 :\n",
            "train mse: 8.496500624954383\n",
            "\n",
            "iteration 19950 :\n",
            "train mse: 8.471712709101958\n",
            "\n",
            "iteration 20000 :\n",
            "train mse: 8.447051145196646\n"
          ],
          "name": "stdout"
        }
      ]
    },
    {
      "cell_type": "markdown",
      "metadata": {
        "id": "LtVZC346n6q5"
      },
      "source": [
        "####Making Predictions "
      ]
    },
    {
      "cell_type": "code",
      "metadata": {
        "id": "CuTzq_ofn5Dm"
      },
      "source": [
        "def encode_new_data(valid_df, user_ids, prod_ids):\n",
        "    \"\"\" Encodes valid_df with the same encoding as train_df.\n",
        "    \"\"\"\n",
        "    df_val_chosen = valid_df['product_id'].isin(prod_ids.keys()) & valid_df['user_id'].isin(user_ids.keys())\n",
        "    valid_df = valid_df[df_val_chosen]\n",
        "    valid_df['product_id'] =  np.array([prod_ids[x] for x in valid_df['product_id']])\n",
        "    valid_df['user_id'] = np.array([user_ids[x] for x in valid_df['user_id']])\n",
        "    return valid_df"
      ],
      "execution_count": null,
      "outputs": []
    },
    {
      "cell_type": "code",
      "metadata": {
        "colab": {
          "base_uri": "https://localhost:8080/"
        },
        "id": "HkEnM7uFigCQ",
        "outputId": "36cd81f9-9f2e-4743-85d1-f9e30b581e86"
      },
      "source": [
        "print(\"before encoding:\", dfp.shape)\n",
        "dfp_original_idx = encode_new_data(dfp, id_users, id_prods)\n",
        "print(\"after encoding:\", dfp_original_idx.shape)"
      ],
      "execution_count": null,
      "outputs": [
        {
          "output_type": "stream",
          "text": [
            "before encoding: (81137, 4)\n",
            "after encoding: (81137, 4)\n"
          ],
          "name": "stdout"
        }
      ]
    },
    {
      "cell_type": "code",
      "metadata": {
        "colab": {
          "base_uri": "https://localhost:8080/",
          "height": 417
        },
        "id": "7o7aXsUFjFK8",
        "outputId": "dbebbcd3-dfe0-4f19-e498-c84018a4d822"
      },
      "source": [
        "dfp_original_idx"
      ],
      "execution_count": null,
      "outputs": [
        {
          "output_type": "execute_result",
          "data": {
            "text/html": [
              "<div>\n",
              "<style scoped>\n",
              "    .dataframe tbody tr th:only-of-type {\n",
              "        vertical-align: middle;\n",
              "    }\n",
              "\n",
              "    .dataframe tbody tr th {\n",
              "        vertical-align: top;\n",
              "    }\n",
              "\n",
              "    .dataframe thead th {\n",
              "        text-align: right;\n",
              "    }\n",
              "</style>\n",
              "<table border=\"1\" class=\"dataframe\">\n",
              "  <thead>\n",
              "    <tr style=\"text-align: right;\">\n",
              "      <th></th>\n",
              "      <th>user_id</th>\n",
              "      <th>product_id</th>\n",
              "      <th>quantity</th>\n",
              "      <th>prediction</th>\n",
              "    </tr>\n",
              "  </thead>\n",
              "  <tbody>\n",
              "    <tr>\n",
              "      <th>0</th>\n",
              "      <td>3373</td>\n",
              "      <td>1978</td>\n",
              "      <td>23</td>\n",
              "      <td>28.505148</td>\n",
              "    </tr>\n",
              "    <tr>\n",
              "      <th>1</th>\n",
              "      <td>1430</td>\n",
              "      <td>3347</td>\n",
              "      <td>2</td>\n",
              "      <td>1.612112</td>\n",
              "    </tr>\n",
              "    <tr>\n",
              "      <th>2</th>\n",
              "      <td>3893</td>\n",
              "      <td>4103</td>\n",
              "      <td>1</td>\n",
              "      <td>0.359289</td>\n",
              "    </tr>\n",
              "    <tr>\n",
              "      <th>3</th>\n",
              "      <td>1872</td>\n",
              "      <td>1351</td>\n",
              "      <td>2</td>\n",
              "      <td>2.618326</td>\n",
              "    </tr>\n",
              "    <tr>\n",
              "      <th>4</th>\n",
              "      <td>2060</td>\n",
              "      <td>2738</td>\n",
              "      <td>2</td>\n",
              "      <td>1.792436</td>\n",
              "    </tr>\n",
              "    <tr>\n",
              "      <th>...</th>\n",
              "      <td>...</td>\n",
              "      <td>...</td>\n",
              "      <td>...</td>\n",
              "      <td>...</td>\n",
              "    </tr>\n",
              "    <tr>\n",
              "      <th>81132</th>\n",
              "      <td>1778</td>\n",
              "      <td>3895</td>\n",
              "      <td>3</td>\n",
              "      <td>1.498406</td>\n",
              "    </tr>\n",
              "    <tr>\n",
              "      <th>81133</th>\n",
              "      <td>3035</td>\n",
              "      <td>1794</td>\n",
              "      <td>2</td>\n",
              "      <td>1.379310</td>\n",
              "    </tr>\n",
              "    <tr>\n",
              "      <th>81134</th>\n",
              "      <td>3406</td>\n",
              "      <td>3302</td>\n",
              "      <td>7</td>\n",
              "      <td>2.488433</td>\n",
              "    </tr>\n",
              "    <tr>\n",
              "      <th>81135</th>\n",
              "      <td>2733</td>\n",
              "      <td>126</td>\n",
              "      <td>1</td>\n",
              "      <td>1.027973</td>\n",
              "    </tr>\n",
              "    <tr>\n",
              "      <th>81136</th>\n",
              "      <td>4396</td>\n",
              "      <td>1906</td>\n",
              "      <td>1</td>\n",
              "      <td>6.414129</td>\n",
              "    </tr>\n",
              "  </tbody>\n",
              "</table>\n",
              "<p>81137 rows × 4 columns</p>\n",
              "</div>"
            ],
            "text/plain": [
              "       user_id  product_id  quantity  prediction\n",
              "0         3373        1978        23   28.505148\n",
              "1         1430        3347         2    1.612112\n",
              "2         3893        4103         1    0.359289\n",
              "3         1872        1351         2    2.618326\n",
              "4         2060        2738         2    1.792436\n",
              "...        ...         ...       ...         ...\n",
              "81132     1778        3895         3    1.498406\n",
              "81133     3035        1794         2    1.379310\n",
              "81134     3406        3302         7    2.488433\n",
              "81135     2733         126         1    1.027973\n",
              "81136     4396        1906         1    6.414129\n",
              "\n",
              "[81137 rows x 4 columns]"
            ]
          },
          "metadata": {
            "tags": []
          },
          "execution_count": 47
        }
      ]
    },
    {
      "cell_type": "code",
      "metadata": {
        "id": "a_nbvMD4oLMP"
      },
      "source": [
        "test_submission = dfp_original_idx.groupby(['user_id']).apply(lambda x: int(x.loc[x.prediction.idxmax()]['product_id'] ))             "
      ],
      "execution_count": null,
      "outputs": []
    },
    {
      "cell_type": "code",
      "metadata": {
        "id": "823cvtYsh9ox"
      },
      "source": [
        ""
      ],
      "execution_count": null,
      "outputs": []
    },
    {
      "cell_type": "code",
      "metadata": {
        "colab": {
          "base_uri": "https://localhost:8080/"
        },
        "id": "mZzTR9JMoPXw",
        "outputId": "3f028a1e-f7f6-41e0-a2bf-523dfaf78b4c"
      },
      "source": [
        "submission_name = \"learn_quants\"\n",
        "my_accuracy = my_submit(submission_name, test_submission)\n",
        "print (\"Submission Accuracy for {s} : {a:0.2f}%\".format(a=100*my_accuracy, s=submission_name))"
      ],
      "execution_count": null,
      "outputs": [
        {
          "output_type": "stream",
          "text": [
            "Submission Accuracy for learn_quants : 25.68%\n"
          ],
          "name": "stdout"
        }
      ]
    },
    {
      "cell_type": "code",
      "metadata": {
        "id": "eylw6YSxoNnX"
      },
      "source": [
        "# print(\"before encoding:\", valid_df.shape)\n",
        "# valid_df = encode_new_data(valid_df, user_ids, prod_ids)\n",
        "# print(\"after encoding:\", valid_df.shape)\n"
      ],
      "execution_count": null,
      "outputs": []
    },
    {
      "cell_type": "code",
      "metadata": {
        "id": "uLOvLZp8l7WT"
      },
      "source": [
        "# train_mse = cost(train_df, emb_user, emb_prod)\n",
        "# val_mse = cost(valid_df, emb_user, emb_prod)\n",
        "# print(train_mse, val_mse)"
      ],
      "execution_count": null,
      "outputs": []
    },
    {
      "cell_type": "markdown",
      "metadata": {
        "id": "5oyViua2T4xt"
      },
      "source": [
        "## See how you compare:\n",
        "\n",
        "Visit http://leaderboard.argmax.ml/jul"
      ]
    },
    {
      "cell_type": "code",
      "metadata": {
        "id": "DySHKotET4xt",
        "colab": {
          "base_uri": "https://localhost:8080/",
          "height": 203
        },
        "outputId": "86b05bf1-dafa-4af2-95e8-2c5d9802021c"
      },
      "source": [
        "valid_df.head()"
      ],
      "execution_count": null,
      "outputs": [
        {
          "output_type": "execute_result",
          "data": {
            "text/html": [
              "<div>\n",
              "<style scoped>\n",
              "    .dataframe tbody tr th:only-of-type {\n",
              "        vertical-align: middle;\n",
              "    }\n",
              "\n",
              "    .dataframe tbody tr th {\n",
              "        vertical-align: top;\n",
              "    }\n",
              "\n",
              "    .dataframe thead th {\n",
              "        text-align: right;\n",
              "    }\n",
              "</style>\n",
              "<table border=\"1\" class=\"dataframe\">\n",
              "  <thead>\n",
              "    <tr style=\"text-align: right;\">\n",
              "      <th></th>\n",
              "      <th>user_id</th>\n",
              "      <th>product_id</th>\n",
              "      <th>quantity</th>\n",
              "      <th>prediction</th>\n",
              "    </tr>\n",
              "  </thead>\n",
              "  <tbody>\n",
              "    <tr>\n",
              "      <th>0</th>\n",
              "      <td>363</td>\n",
              "      <td>83</td>\n",
              "      <td>1</td>\n",
              "      <td>0.699034</td>\n",
              "    </tr>\n",
              "    <tr>\n",
              "      <th>1</th>\n",
              "      <td>549</td>\n",
              "      <td>2103</td>\n",
              "      <td>1</td>\n",
              "      <td>2.162716</td>\n",
              "    </tr>\n",
              "    <tr>\n",
              "      <th>2</th>\n",
              "      <td>551</td>\n",
              "      <td>654</td>\n",
              "      <td>1</td>\n",
              "      <td>1.567627</td>\n",
              "    </tr>\n",
              "    <tr>\n",
              "      <th>3</th>\n",
              "      <td>830</td>\n",
              "      <td>1458</td>\n",
              "      <td>1</td>\n",
              "      <td>2.949503</td>\n",
              "    </tr>\n",
              "    <tr>\n",
              "      <th>4</th>\n",
              "      <td>1021</td>\n",
              "      <td>1454</td>\n",
              "      <td>1</td>\n",
              "      <td>3.194179</td>\n",
              "    </tr>\n",
              "  </tbody>\n",
              "</table>\n",
              "</div>"
            ],
            "text/plain": [
              "   user_id  product_id  quantity  prediction\n",
              "0      363          83         1    0.699034\n",
              "1      549        2103         1    2.162716\n",
              "2      551         654         1    1.567627\n",
              "3      830        1458         1    2.949503\n",
              "4     1021        1454         1    3.194179"
            ]
          },
          "metadata": {
            "tags": []
          },
          "execution_count": 33
        }
      ]
    },
    {
      "cell_type": "code",
      "metadata": {
        "id": "8XIyfB70pLQe"
      },
      "source": [
        "test_submission = df.groupby(\"user_id\")[\"prediction\"]\\\n",
        "                    .apply(lambda x: list(x)[0]).to_dict()\n",
        "                    "
      ],
      "execution_count": null,
      "outputs": []
    },
    {
      "cell_type": "code",
      "metadata": {
        "id": "VG5VF6iMrzrW"
      },
      "source": [
        "test_submission = dfp_original_idx.groupby(['user_id']).apply(lambda x: int(x.loc[x.prediction.idxmax()]['product_id'] ))             "
      ],
      "execution_count": null,
      "outputs": []
    },
    {
      "cell_type": "code",
      "metadata": {
        "colab": {
          "base_uri": "https://localhost:8080/"
        },
        "id": "0l8Unep-2l0U",
        "outputId": "da728c17-fbc1-4196-fb2c-57c36af1bd08"
      },
      "source": [
        "submission_name = \"learn_quants\"\n",
        "my_accuracy = my_submit(submission_name, test_submission)\n",
        "print (\"Submission Accuracy for {s} : {a:0.2f}%\".format(a=100*my_accuracy, s=submission_name))"
      ],
      "execution_count": null,
      "outputs": [
        {
          "output_type": "stream",
          "text": [
            "Submission Accuracy for learn_quants : 19.36%\n"
          ],
          "name": "stdout"
        }
      ]
    },
    {
      "cell_type": "code",
      "metadata": {
        "id": "zEzRP0YH1PPU"
      },
      "source": [
        ""
      ],
      "execution_count": null,
      "outputs": []
    },
    {
      "cell_type": "markdown",
      "metadata": {
        "id": "4_IJ1YQpa95F"
      },
      "source": [
        "##Evaluation 4 - \n",
        "###Microsoft Convolutional Sequence Embedding Recommendation (Caser)"
      ]
    },
    {
      "cell_type": "code",
      "metadata": {
        "id": "YQWhbbHPbBc5"
      },
      "source": [
        ""
      ],
      "execution_count": null,
      "outputs": []
    }
  ]
}